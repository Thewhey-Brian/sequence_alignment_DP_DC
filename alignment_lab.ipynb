{
 "cells": [
  {
   "cell_type": "code",
   "execution_count": 7,
   "metadata": {},
   "outputs": [],
   "source": [
    "import numpy as np\n",
    "import os\n",
    "import sys\n",
    "from resource import *\n",
    "import time\n",
    "import psutil"
   ]
  },
  {
   "cell_type": "code",
   "execution_count": 8,
   "metadata": {},
   "outputs": [],
   "source": [
    "input_file = open(\"./SampleTestCases/input2.txt\")"
   ]
  },
  {
   "cell_type": "code",
   "execution_count": 9,
   "metadata": {},
   "outputs": [
    {
     "data": {
      "text/plain": [
       "<_io.TextIOWrapper name='./SampleTestCases/input2.txt' mode='r' encoding='UTF-8'>"
      ]
     },
     "execution_count": 9,
     "metadata": {},
     "output_type": "execute_result"
    }
   ],
   "source": [
    "input_file"
   ]
  },
  {
   "cell_type": "code",
   "execution_count": 10,
   "metadata": {},
   "outputs": [],
   "source": [
    "seq = input_file.read().split(\"\\n\")"
   ]
  },
  {
   "cell_type": "code",
   "execution_count": 11,
   "metadata": {},
   "outputs": [],
   "source": [
    "seq\n",
    "strings = []\n",
    "string = ''\n",
    "i = 0"
   ]
  },
  {
   "cell_type": "code",
   "execution_count": 12,
   "metadata": {},
   "outputs": [],
   "source": [
    "for s in seq:\n",
    "    if not s.isdigit(): \n",
    "        if string == '': \n",
    "            string = s\n",
    "            base_len = len(s)\n",
    "        else: \n",
    "            if base_len * 2 ** i != len(string): \n",
    "                print(\"Error for string length.\")\n",
    "                sys.exit(1)\n",
    "            strings.append(string)\n",
    "            string = s\n",
    "            i = 0\n",
    "            base_len = len(s)\n",
    "    else: \n",
    "        i += 1\n",
    "        s = int(s)\n",
    "        string = string[0:s+1] + string + string[s+1:]\n",
    "if base_len * 2 ** i != len(string): \n",
    "    print(\"Error for string length.\")\n",
    "    sys.exit(1)\n",
    "strings.append(string)"
   ]
  },
  {
   "cell_type": "code",
   "execution_count": 13,
   "metadata": {},
   "outputs": [
    {
     "data": {
      "text/plain": [
       "['ACACACTGACTACTGACTGGTGACTACTGACTGGACTGACTACTGACTGGTGACTACTGACTGG',\n",
       " 'TTATTATACGCGACGCGATTATACGCGACGCG']"
      ]
     },
     "execution_count": 13,
     "metadata": {},
     "output_type": "execute_result"
    }
   ],
   "source": [
    "strings"
   ]
  },
  {
   "cell_type": "code",
   "execution_count": 14,
   "metadata": {},
   "outputs": [
    {
     "name": "stdout",
     "output_type": "stream",
     "text": [
      "ACACACTGACTACTGACTGGTGACTACTGACTGGACTGACTACTGACTGGTGACTACTGACTGG TTATTATACGCGACGCGATTATACGCGACGCG\n"
     ]
    }
   ],
   "source": [
    "string1 = strings[0]\n",
    "string2 = strings[1]\n",
    "print(string1, string2)"
   ]
  },
  {
   "cell_type": "code",
   "execution_count": 15,
   "metadata": {},
   "outputs": [],
   "source": [
    "code_dic = {\"A\": 1, \"C\": 2, \"G\": 3, \"T\": 5}\n",
    "alpha = [0] * 26\n",
    "alpha[2], alpha[3], alpha[5], alpha[6], alpha[10], alpha[15] = 110, 48, 94, 118, 48, 110\n",
    "delta = 30"
   ]
  },
  {
   "cell_type": "code",
   "execution_count": 16,
   "metadata": {},
   "outputs": [],
   "source": [
    "dp = np.zeros((len(string1) + 1, len(string2) + 1))\n",
    "for i in range(dp.shape[0]): \n",
    "    for j in range(dp.shape[1]): \n",
    "        if i == 0: \n",
    "            dp[i, j] = j * delta\n",
    "            continue\n",
    "        if j == 0:\n",
    "            dp[i, j] = i * delta\n",
    "            continue\n",
    "        dp[i, j] = min(dp[i - 1, j - 1] + alpha[code_dic[string1[i - 1]] * code_dic[string2[j - 1]]], \n",
    "                       dp[i - 1, j] + delta, \n",
    "                       dp[i, j - 1] + delta)\n",
    "cost = int(dp[i, j])\n",
    "aligned1_back = ''\n",
    "aligned2_back = ''    \n",
    "while (i != 0) or (j != 0):\n",
    "    if i == 0: \n",
    "        aligned1_back += '_'\n",
    "        aligned2_back += string2[j - 1]\n",
    "        j -= 1\n",
    "        continue\n",
    "    if j == 0: \n",
    "        aligned1_back += string1[i - 1]\n",
    "        aligned2_back += '_'\n",
    "        i -= 1\n",
    "        continue\n",
    "    diag_value = dp[i - 1, j - 1] + alpha[code_dic[string1[i - 1]] * code_dic[string2[j - 1]]]\n",
    "    if diag_value == dp[i, j]: \n",
    "        aligned1_back += string1[i - 1]\n",
    "        aligned2_back += string2[j - 1]\n",
    "        i -= 1\n",
    "        j -= 1\n",
    "        continue\n",
    "    if dp[i - 1, j] + delta == dp[i, j]: \n",
    "        aligned1_back += string1[i - 1]\n",
    "        aligned2_back += '_'\n",
    "        i -= 1\n",
    "        continue\n",
    "    if dp[i, j - 1] + delta == dp[i, j]: \n",
    "        aligned1_back += \"_\"\n",
    "        aligned2_back += string2[j - 1]\n",
    "        j -= 1\n",
    "aligned1 = aligned1_back[::-1]\n",
    "aligned2 = aligned2_back[::-1]\n"
   ]
  },
  {
   "cell_type": "code",
   "execution_count": 17,
   "metadata": {},
   "outputs": [
    {
     "data": {
      "text/plain": [
       "array([[   0.,   30.,   60., ...,  900.,  930.,  960.],\n",
       "       [  30.,   60.,   90., ...,  870.,  900.,  930.],\n",
       "       [  60.,   78.,  108., ...,  840.,  870.,  900.],\n",
       "       ...,\n",
       "       [1860., 1830., 1800., ..., 1128., 1122., 1140.],\n",
       "       [1890., 1860., 1830., ..., 1098., 1128., 1122.],\n",
       "       [1920., 1890., 1860., ..., 1128., 1158., 1128.]])"
      ]
     },
     "execution_count": 17,
     "metadata": {},
     "output_type": "execute_result"
    }
   ],
   "source": [
    "dp"
   ]
  },
  {
   "cell_type": "code",
   "execution_count": 18,
   "metadata": {},
   "outputs": [
    {
     "data": {
      "text/plain": [
       "'ACACACTGACTACTGACTGGTGACTACTGACTGGACTGACTACTGACTGGTGACTAC_TGACTG_G'"
      ]
     },
     "execution_count": 18,
     "metadata": {},
     "output_type": "execute_result"
    }
   ],
   "source": [
    "aligned1"
   ]
  },
  {
   "cell_type": "code",
   "execution_count": 19,
   "metadata": {},
   "outputs": [
    {
     "data": {
      "text/plain": [
       "'__________T__T_A_T__T_A_TAC_G_C__GAC_G____C_GA_T__T_A_TACGCGAC_GCG'"
      ]
     },
     "execution_count": 19,
     "metadata": {},
     "output_type": "execute_result"
    }
   ],
   "source": [
    "aligned2"
   ]
  },
  {
   "cell_type": "code",
   "execution_count": 20,
   "metadata": {},
   "outputs": [
    {
     "data": {
      "text/plain": [
       "32"
      ]
     },
     "execution_count": 20,
     "metadata": {},
     "output_type": "execute_result"
    }
   ],
   "source": [
    "len(string2)"
   ]
  },
  {
   "cell_type": "code",
   "execution_count": 21,
   "metadata": {},
   "outputs": [
    {
     "name": "stdout",
     "output_type": "stream",
     "text": [
      "[[ 60.  90.  60.  90. 120.]\n",
      " [ 78. 108.  90. 108. 138.]\n",
      " [108. 138. 108. 138. 168.]\n",
      " [138. 156. 138. 156. 186.]\n",
      " [168. 186. 156. 186. 216.]]\n"
     ]
    }
   ],
   "source": [
    "print(dp[1:6, 1:6])"
   ]
  },
  {
   "cell_type": "code",
   "execution_count": 22,
   "metadata": {},
   "outputs": [
    {
     "data": {
      "text/plain": [
       "24287"
      ]
     },
     "execution_count": 22,
     "metadata": {},
     "output_type": "execute_result"
    }
   ],
   "source": [
    "os.getpid()"
   ]
  },
  {
   "cell_type": "code",
   "execution_count": 23,
   "metadata": {},
   "outputs": [
    {
     "name": "stdout",
     "output_type": "stream",
     "text": [
      "pmem(rss=108453888, vms=36525211648, pfaults=67143, pageins=1490) 105912\n"
     ]
    }
   ],
   "source": [
    "process = psutil.Process()\n",
    "memory_info = process.memory_info()\n",
    "memory_consumed = int(memory_info.rss/1024)\n",
    "print(memory_info, memory_consumed)"
   ]
  },
  {
   "cell_type": "code",
   "execution_count": 24,
   "metadata": {},
   "outputs": [
    {
     "data": {
      "text/plain": [
       "105912"
      ]
     },
     "execution_count": 24,
     "metadata": {},
     "output_type": "execute_result"
    }
   ],
   "source": [
    "memory_consumed"
   ]
  },
  {
   "cell_type": "code",
   "execution_count": 25,
   "metadata": {},
   "outputs": [],
   "source": [
    "process = psutil.Process(os.getpid())\n",
    "memory_info = process.memory_info()\n",
    "memory_consumed = int(memory_info.rss/1024)"
   ]
  },
  {
   "cell_type": "code",
   "execution_count": 26,
   "metadata": {},
   "outputs": [],
   "source": [
    "info = process.memory_full_info()"
   ]
  },
  {
   "cell_type": "code",
   "execution_count": 27,
   "metadata": {},
   "outputs": [
    {
     "data": {
      "text/plain": [
       "108462080"
      ]
     },
     "execution_count": 27,
     "metadata": {},
     "output_type": "execute_result"
    }
   ],
   "source": [
    "info.rss"
   ]
  },
  {
   "cell_type": "code",
   "execution_count": 28,
   "metadata": {},
   "outputs": [
    {
     "data": {
      "text/plain": [
       "108457984"
      ]
     },
     "execution_count": 28,
     "metadata": {},
     "output_type": "execute_result"
    }
   ],
   "source": [
    "memory_info.rss"
   ]
  },
  {
   "cell_type": "code",
   "execution_count": 29,
   "metadata": {},
   "outputs": [],
   "source": [
    "code_dic = {\"A\": 1, \"C\": 2, \"G\": 3, \"T\": 5}\n",
    "alpha = [0] * 26\n",
    "alpha[2], alpha[3], alpha[5], alpha[6], alpha[10], alpha[15] = 110, 48, 94, 118, 48, 110\n",
    "delta = 30"
   ]
  },
  {
   "cell_type": "code",
   "execution_count": 30,
   "metadata": {},
   "outputs": [],
   "source": [
    "def alignment_efficient(string1, string2): \n",
    "    if len(string1) < 3 or len(string2) < 3: \n",
    "        dp = np.zeros((2, 2))\n",
    "        for i in range(dp.shape[0]):  \n",
    "            for j in range(dp.shape[1]): \n",
    "                if i == 0: # initialize \n",
    "                    dp[i, j] = j * delta\n",
    "                    continue\n",
    "                if j == 0: # initialize \n",
    "                    dp[i, j] = i * delta\n",
    "                    continue\n",
    "                dp[i, j] = min(dp[i - 1, j - 1] + alpha[code_dic[string1[i - 1]] * code_dic[string2[j - 1]]], # DP step\n",
    "                            dp[i - 1, j] + delta, \n",
    "                            dp[i, j - 1] + delta)\n",
    "        cost = int(dp[i, j])\n",
    "        aligned1_back = ''\n",
    "        aligned2_back = '' \n",
    "        while (i != 0) or (j != 0):\n",
    "            if i == 0: # when string2 is longer\n",
    "                aligned1_back += '_'\n",
    "                aligned2_back += string2[j - 1]\n",
    "                j -= 1\n",
    "                continue\n",
    "            if j == 0: # when string1 is longer\n",
    "                aligned1_back += string1[i - 1]\n",
    "                aligned2_back += '_'\n",
    "                i -= 1\n",
    "                continue\n",
    "            diag_value = dp[i - 1, j - 1] + alpha[code_dic[string1[i - 1]] * code_dic[string2[j - 1]]] # traceback diagonal\n",
    "            if diag_value == dp[i, j]: \n",
    "                aligned1_back += string1[i - 1]\n",
    "                aligned2_back += string2[j - 1]\n",
    "                i -= 1\n",
    "                j -= 1\n",
    "                continue\n",
    "            if dp[i - 1, j] + delta == dp[i, j]: # traceback along string1\n",
    "                aligned1_back += string1[i - 1]\n",
    "                aligned2_back += '_'\n",
    "                i -= 1\n",
    "                continue\n",
    "            if dp[i, j - 1] + delta == dp[i, j]: #traceback along string2\n",
    "                aligned1_back += \"_\"\n",
    "                aligned2_back += string2[j - 1]\n",
    "                j -= 1\n",
    "        aligned1 = aligned1_back[::-1] # get aligned string1\n",
    "        aligned2 = aligned2_back[::-1] # get aligned string2\n",
    "        return cost, aligned1, aligned2\n",
    "    dp_l = np.zeros((2, len(string2) + 1))\n",
    "    dp_r = np.zeros((2, len(string2) + 1))\n",
    "    for i in range(len(string1) // 2 + 1): \n",
    "        for j in range(dp_l.shape[1]): \n",
    "            if i == 0:\n",
    "                dp_l[i, j] = j * delta\n",
    "                continue\n",
    "            if j == 0:\n",
    "                dp_l[1, 0] = i * delta\n",
    "                continue\n",
    "            dp_l[1, j] = min(dp_l[0, j - 1] + alpha[code_dic[string1[i - 1]] * code_dic[string2[j - 1]]], \n",
    "                            dp_l[0, j] + delta, \n",
    "                            dp_l[1, j - 1] + delta)\n",
    "        for j in range(dp_l.shape[1]): \n",
    "            dp_l[0, j] = dp_l[1, j]\n",
    "    for i in range(len(string1) - (len(string1) // 2) + 1): \n",
    "        for j in range(dp_r.shape[1]): \n",
    "            if i == 0: \n",
    "                dp_r[i, j] = j * delta\n",
    "                continue\n",
    "            if j == 0: \n",
    "                dp_r[1, 0] = i * delta\n",
    "                continue\n",
    "            dp_r[1, j] = min(dp_r[0, j - 1] + alpha[code_dic[string1[len(string1) - i]] * code_dic[string2[len(string2) - j]]], \n",
    "                            dp_r[0, j] + delta, \n",
    "                            dp_r[1, j - 1] + delta)\n",
    "            for j in range(dp_l.shape[1]): \n",
    "                dp_r[0, j] = dp_r[1, j]\n",
    "    cut_point = 0\n",
    "    for j in range(dp_r.shape[1]): \n",
    "        if dp_l[0, j] + dp_r[0, len(string2) - j] < dp_l[0, cut_point] + dp_r[0, len(string2) - cut_point]: \n",
    "            cut_point = j\n",
    "    #cost = dp_l[0, cut_point] + dp_r[0, len(string2) - cut_point]\n",
    "    cost1, aligned1_l, aligned2_l = alignment_efficient(string1[:(len(string1) // 2)], string2[:cut_point])\n",
    "    cost2, aligned1_r, aligned2_r = alignment_efficient(string1[(len(string1) // 2):], string2[cut_point:])\n",
    "    cost = cost1 + cost2\n",
    "    return cost, aligned1_l + aligned1_r, aligned2_l + aligned2_r"
   ]
  },
  {
   "cell_type": "code",
   "execution_count": null,
   "metadata": {},
   "outputs": [],
   "source": []
  },
  {
   "cell_type": "code",
   "execution_count": 31,
   "metadata": {},
   "outputs": [],
   "source": [
    "cost, al1, al2 = alignment_efficient(string1, string2)"
   ]
  },
  {
   "cell_type": "code",
   "execution_count": 35,
   "metadata": {},
   "outputs": [
    {
     "name": "stdout",
     "output_type": "stream",
     "text": [
      "ACACACTGACTACTGACTGGTGACTACTGACTGGACTGACTACTGACTGGTGACTACTGACTGG TTATTATACGCGACGCGATTATACGCGACGCG\n"
     ]
    }
   ],
   "source": [
    "print(string1, string2)"
   ]
  },
  {
   "cell_type": "code",
   "execution_count": 33,
   "metadata": {},
   "outputs": [
    {
     "data": {
      "text/plain": [
       "'_AAA_A_CC_G_T_TGA_TTG'"
      ]
     },
     "execution_count": 33,
     "metadata": {},
     "output_type": "execute_result"
    }
   ],
   "source": [
    "al1"
   ]
  },
  {
   "cell_type": "code",
   "execution_count": 34,
   "metadata": {},
   "outputs": [
    {
     "data": {
      "text/plain": [
       "'T_GGC_G_TT_A_G_GAG_CG'"
      ]
     },
     "execution_count": 34,
     "metadata": {},
     "output_type": "execute_result"
    }
   ],
   "source": [
    "al2"
   ]
  },
  {
   "cell_type": "code",
   "execution_count": 420,
   "metadata": {},
   "outputs": [
    {
     "ename": "NameError",
     "evalue": "name 'alignment_efficient' is not defined",
     "output_type": "error",
     "traceback": [
      "\u001b[0;31m---------------------------------------------------------------------------\u001b[0m",
      "\u001b[0;31mNameError\u001b[0m                                 Traceback (most recent call last)",
      "\u001b[0;32m/var/folders/yz/8c68dbm97kz5dgz3pc1zc4yc0000gn/T/ipykernel_13745/4262385766.py\u001b[0m in \u001b[0;36m<module>\u001b[0;34m\u001b[0m\n\u001b[1;32m     31\u001b[0m     \u001b[0;32mif\u001b[0m \u001b[0mdp_l\u001b[0m\u001b[0;34m[\u001b[0m\u001b[0;36m0\u001b[0m\u001b[0;34m,\u001b[0m \u001b[0mj\u001b[0m\u001b[0;34m]\u001b[0m \u001b[0;34m+\u001b[0m \u001b[0mdp_r\u001b[0m\u001b[0;34m[\u001b[0m\u001b[0;36m0\u001b[0m\u001b[0;34m,\u001b[0m \u001b[0mlen\u001b[0m\u001b[0;34m(\u001b[0m\u001b[0mstring2\u001b[0m\u001b[0;34m)\u001b[0m \u001b[0;34m-\u001b[0m \u001b[0mj\u001b[0m\u001b[0;34m]\u001b[0m \u001b[0;34m<\u001b[0m \u001b[0mdp_l\u001b[0m\u001b[0;34m[\u001b[0m\u001b[0;36m0\u001b[0m\u001b[0;34m,\u001b[0m \u001b[0mcut_point\u001b[0m\u001b[0;34m]\u001b[0m \u001b[0;34m+\u001b[0m \u001b[0mdp_r\u001b[0m\u001b[0;34m[\u001b[0m\u001b[0;36m0\u001b[0m\u001b[0;34m,\u001b[0m \u001b[0mlen\u001b[0m\u001b[0;34m(\u001b[0m\u001b[0mstring2\u001b[0m\u001b[0;34m)\u001b[0m \u001b[0;34m-\u001b[0m \u001b[0mcut_point\u001b[0m\u001b[0;34m]\u001b[0m\u001b[0;34m:\u001b[0m\u001b[0;34m\u001b[0m\u001b[0;34m\u001b[0m\u001b[0m\n\u001b[1;32m     32\u001b[0m         \u001b[0mcut_point\u001b[0m \u001b[0;34m=\u001b[0m \u001b[0mj\u001b[0m\u001b[0;34m\u001b[0m\u001b[0;34m\u001b[0m\u001b[0m\n\u001b[0;32m---> 33\u001b[0;31m \u001b[0maligned1_l\u001b[0m\u001b[0;34m,\u001b[0m \u001b[0maligned2_l\u001b[0m \u001b[0;34m=\u001b[0m \u001b[0malignment_efficient\u001b[0m\u001b[0;34m(\u001b[0m\u001b[0mstring1\u001b[0m\u001b[0;34m[\u001b[0m\u001b[0;34m:\u001b[0m\u001b[0;34m(\u001b[0m\u001b[0mlen\u001b[0m\u001b[0;34m(\u001b[0m\u001b[0mstring1\u001b[0m\u001b[0;34m)\u001b[0m \u001b[0;34m//\u001b[0m \u001b[0;36m2\u001b[0m\u001b[0;34m)\u001b[0m\u001b[0;34m]\u001b[0m\u001b[0;34m,\u001b[0m \u001b[0mstring2\u001b[0m\u001b[0;34m[\u001b[0m\u001b[0;34m:\u001b[0m\u001b[0mcutpoint\u001b[0m\u001b[0;34m]\u001b[0m\u001b[0;34m)\u001b[0m\u001b[0;34m\u001b[0m\u001b[0;34m\u001b[0m\u001b[0m\n\u001b[0m\u001b[1;32m     34\u001b[0m \u001b[0maligned1_r\u001b[0m\u001b[0;34m,\u001b[0m \u001b[0maligned2_r\u001b[0m \u001b[0;34m=\u001b[0m \u001b[0malignment_efficient\u001b[0m\u001b[0;34m(\u001b[0m\u001b[0mstring1\u001b[0m\u001b[0;34m[\u001b[0m\u001b[0;34m(\u001b[0m\u001b[0mlen\u001b[0m\u001b[0;34m(\u001b[0m\u001b[0mstring1\u001b[0m\u001b[0;34m)\u001b[0m \u001b[0;34m//\u001b[0m \u001b[0;36m2\u001b[0m\u001b[0;34m)\u001b[0m\u001b[0;34m:\u001b[0m\u001b[0;34m]\u001b[0m\u001b[0;34m,\u001b[0m \u001b[0mstring2\u001b[0m\u001b[0;34m[\u001b[0m\u001b[0mcutpoint\u001b[0m\u001b[0;34m:\u001b[0m\u001b[0;34m]\u001b[0m\u001b[0;34m)\u001b[0m\u001b[0;34m\u001b[0m\u001b[0;34m\u001b[0m\u001b[0m\n",
      "\u001b[0;31mNameError\u001b[0m: name 'alignment_efficient' is not defined"
     ]
    }
   ],
   "source": [
    "dp_l = np.zeros((2, len(string2) + 1))\n",
    "dp_r = np.zeros((2, len(string2) + 1))\n",
    "for i in range(len(string1) // 2 + 1): \n",
    "    for j in range(dp_l.shape[0]): \n",
    "        if i == 0:\n",
    "            dp_l[i, j] = j * delta\n",
    "            continue\n",
    "        if j == 0:\n",
    "            dp_l[1, 0] = i * delta\n",
    "            continue\n",
    "        dp_l[1, j] = min(dp_l[0, j - 1] + alpha[code_dic[string1[i - 1]] * code_dic[string2[j - 1]]], \n",
    "                         dp_l[0, j] + delta, \n",
    "                         dp_l[1, j - 1] + delta)\n",
    "    for j in range(dp_l.shape[0]): \n",
    "        dp_l[0, j] = dp_l[1, j]\n",
    "for i in range(len(string1) - (len(string1) // 2) + 1): \n",
    "    for j in range(dp_r.shape[0]): \n",
    "        if i == 0: \n",
    "            dp_r[i, j] = j * delta\n",
    "            continue\n",
    "        if j == 0: \n",
    "            dp_r[1, 0] = i * delta\n",
    "            continue\n",
    "        dp_r[1, j] = min(dp_r[0, j - 1] + alpha[code_dic[string1[len(string1) - i]] * code_dic[string2[len(string2) - j]]], \n",
    "                         dp_r[0, j] + delta, \n",
    "                         dp_r[1, j - 1] + delta)\n",
    "        for j in range(dp_l.shape[0]): \n",
    "            dp_r[0, j] = dp_r[1, j]\n",
    "cut_point = 0\n",
    "for j in range(dp_r.shape[0]): \n",
    "    if dp_l[0, j] + dp_r[0, len(string2) - j] < dp_l[0, cut_point] + dp_r[0, len(string2) - cut_point]: \n",
    "        cut_point = j\n",
    "aligned1_l, aligned2_l = alignment_efficient(string1[:(len(string1) // 2)], string2[:cutpoint])\n",
    "aligned1_r, aligned2_r = alignment_efficient(string1[(len(string1) // 2):], string2[cutpoint:])\n"
   ]
  },
  {
   "cell_type": "code",
   "execution_count": 415,
   "metadata": {},
   "outputs": [
    {
     "name": "stdout",
     "output_type": "stream",
     "text": [
      "0 2\n"
     ]
    }
   ],
   "source": [
    "print(i, j)"
   ]
  },
  {
   "cell_type": "code",
   "execution_count": 416,
   "metadata": {},
   "outputs": [
    {
     "data": {
      "text/plain": [
       "range(0, 33)"
      ]
     },
     "execution_count": 416,
     "metadata": {},
     "output_type": "execute_result"
    }
   ],
   "source": [
    "range(dp_l.shape[0])"
   ]
  },
  {
   "cell_type": "code",
   "execution_count": 417,
   "metadata": {},
   "outputs": [
    {
     "data": {
      "text/plain": [
       "(33, 2)"
      ]
     },
     "execution_count": 417,
     "metadata": {},
     "output_type": "execute_result"
    }
   ],
   "source": [
    "dp_l.shape"
   ]
  },
  {
   "cell_type": "code",
   "execution_count": null,
   "metadata": {},
   "outputs": [],
   "source": []
  }
 ],
 "metadata": {
  "kernelspec": {
   "display_name": "Python 3.9.7 ('base')",
   "language": "python",
   "name": "python3"
  },
  "language_info": {
   "codemirror_mode": {
    "name": "ipython",
    "version": 3
   },
   "file_extension": ".py",
   "mimetype": "text/x-python",
   "name": "python",
   "nbconvert_exporter": "python",
   "pygments_lexer": "ipython3",
   "version": "3.9.7"
  },
  "orig_nbformat": 4,
  "vscode": {
   "interpreter": {
    "hash": "a97675e7b970bab5b64b9d76cdb5b97f3b767e0079c889a4d19c6a2e3bacfe1a"
   }
  }
 },
 "nbformat": 4,
 "nbformat_minor": 2
}
